{
  "cells": [
    {
      "cell_type": "code",
      "execution_count": null,
      "id": "private-princeton",
      "metadata": {
        "_kg_hide-input": true,
        "execution": {
          "iopub.execute_input": "2021-05-22T11:44:53.740095Z",
          "iopub.status.busy": "2021-05-22T11:44:53.738405Z",
          "iopub.status.idle": "2021-05-22T11:44:54.646999Z",
          "shell.execute_reply": "2021-05-22T11:44:54.646283Z"
        },
        "id": "private-princeton",
        "papermill": {
          "duration": 0.953227,
          "end_time": "2021-05-22T11:44:54.647165",
          "exception": false,
          "start_time": "2021-05-22T11:44:53.693938",
          "status": "completed"
        },
        "tags": []
      },
      "outputs": [],
      "source": [
        "# Importacion de librerias\n",
        "\n",
        "import pandas as pd\n",
        "import numpy as np\n",
        "import matplotlib.pyplot as plt\n",
        "import seaborn as sns\n",
        "\n",
        "import warnings\n",
        "warnings.filterwarnings(\"ignore\")"
      ]
    },
    {
      "cell_type": "code",
      "execution_count": null,
      "id": "homeless-ordinary",
      "metadata": {
        "_kg_hide-input": true,
        "execution": {
          "iopub.execute_input": "2021-05-22T11:44:54.811528Z",
          "iopub.status.busy": "2021-05-22T11:44:54.810872Z",
          "iopub.status.idle": "2021-05-22T11:44:54.831455Z",
          "shell.execute_reply": "2021-05-22T11:44:54.830751Z"
        },
        "id": "homeless-ordinary",
        "papermill": {
          "duration": 0.064551,
          "end_time": "2021-05-22T11:44:54.831596",
          "exception": false,
          "start_time": "2021-05-22T11:44:54.767045",
          "status": "completed"
        },
        "tags": []
      },
      "outputs": [],
      "source": [
        "df = pd.read_csv(\"heart.csv\")"
      ]
    },
    {
      "cell_type": "code",
      "execution_count": null,
      "id": "killing-welsh",
      "metadata": {
        "_kg_hide-input": true,
        "colab": {
          "base_uri": "https://localhost:8080/"
        },
        "execution": {
          "iopub.execute_input": "2021-05-22T11:45:50.320500Z",
          "iopub.status.busy": "2021-05-22T11:45:50.319805Z",
          "iopub.status.idle": "2021-05-22T11:45:52.152870Z",
          "shell.execute_reply": "2021-05-22T11:45:52.152202Z"
        },
        "id": "killing-welsh",
        "outputId": "a01606e0-6dad-4cdf-bef4-9e8a010c0332",
        "papermill": {
          "duration": 1.922191,
          "end_time": "2021-05-22T11:45:52.153008",
          "exception": false,
          "start_time": "2021-05-22T11:45:50.230817",
          "status": "completed"
        },
        "tags": []
      },
      "outputs": [
        {
          "name": "stdout",
          "output_type": "stream",
          "text": [
            "Packages imported...\n"
          ]
        }
      ],
      "source": [
        "# Escalamiento\n",
        "from sklearn.preprocessing import RobustScaler\n",
        "\n",
        "# Train Test Split\n",
        "from sklearn.model_selection import train_test_split\n",
        "\n",
        "# Modelos\n",
        "import torch\n",
        "import torch.nn as nn\n",
        "from sklearn.svm import SVC\n",
        "from sklearn.linear_model import LogisticRegression\n",
        "from sklearn.ensemble import RandomForestClassifier\n",
        "from sklearn.tree import DecisionTreeClassifier\n",
        "from sklearn.ensemble import GradientBoostingClassifier\n",
        "\n",
        "# Metricas\n",
        "from sklearn.metrics import accuracy_score, classification_report, roc_curve\n",
        "\n",
        "# Cross Validation\n",
        "from sklearn.model_selection import cross_val_score\n",
        "from sklearn.model_selection import GridSearchCV\n",
        "\n",
        "print('Packages imported...')"
      ]
    },
    {
      "cell_type": "code",
      "execution_count": null,
      "id": "black-grill",
      "metadata": {
        "_kg_hide-input": true,
        "execution": {
          "iopub.execute_input": "2021-05-22T11:45:52.678234Z",
          "iopub.status.busy": "2021-05-22T11:45:52.677190Z",
          "iopub.status.idle": "2021-05-22T11:45:52.716073Z",
          "shell.execute_reply": "2021-05-22T11:45:52.715535Z"
        },
        "id": "black-grill",
        "papermill": {
          "duration": 0.135072,
          "end_time": "2021-05-22T11:45:52.716208",
          "exception": false,
          "start_time": "2021-05-22T11:45:52.581136",
          "status": "completed"
        },
        "tags": []
      },
      "outputs": [],
      "source": [
        "# Creación de una copia del df\n",
        "df1 = df\n",
        "\n",
        "# Seleccion de las columnas a ser escaladas y codificadas\n",
        "cat_cols = ['sex','exng','caa','cp','fbs','restecg','slp','thall']\n",
        "con_cols = [\"age\",\"trtbps\",\"chol\",\"thalachh\",\"oldpeak\"]\n",
        "\n",
        "# Codificando las columnas categoricas\n",
        "df1 = pd.get_dummies(df1, columns = cat_cols, drop_first = True)\n",
        "\n",
        "# Definiendo los atributos independientes y el atributo dependiente\n",
        "X = df1.drop(['output'],axis=1)\n",
        "y = df1[['output']]\n",
        "\n",
        "# Instanciando el escalador\n",
        "scaler = RobustScaler()\n",
        "\n",
        "# Escalando los atributos continuos\n",
        "X[con_cols] = scaler.fit_transform(X[con_cols])\n",
        "print(\"Las primeras 5 filas de X\")\n",
        "X.head()"
      ]
    },
    {
      "cell_type": "code",
      "execution_count": null,
      "id": "human-halloween",
      "metadata": {
        "_kg_hide-input": true,
        "execution": {
          "iopub.execute_input": "2021-05-22T11:45:53.081873Z",
          "iopub.status.busy": "2021-05-22T11:45:53.081112Z",
          "iopub.status.idle": "2021-05-22T11:45:53.087419Z",
          "shell.execute_reply": "2021-05-22T11:45:53.086347Z"
        },
        "id": "human-halloween",
        "papermill": {
          "duration": 0.104709,
          "end_time": "2021-05-22T11:45:53.087647",
          "exception": false,
          "start_time": "2021-05-22T11:45:52.982938",
          "status": "completed"
        },
        "tags": []
      },
      "outputs": [],
      "source": [
        "X_train, X_test, y_train, y_test = train_test_split(X,y, test_size = 0.2, random_state = 42)\n",
        "print(\"El tamaño de X_train es      \", X_train.shape)\n",
        "print(\"El tamaño de X_test es        \",X_test.shape)\n",
        "print(\"El tamaño de y_train es       \",y_train.shape)\n",
        "print(\"El tamaño de y_test es        \",y_test.shape)"
      ]
    },
    {
      "cell_type": "code",
      "execution_count": null,
      "id": "worthy-calvin",
      "metadata": {
        "_kg_hide-input": true,
        "execution": {
          "iopub.execute_input": "2021-05-22T11:45:59.231990Z",
          "iopub.status.busy": "2021-05-22T11:45:59.230826Z",
          "iopub.status.idle": "2021-05-22T11:45:59.242577Z",
          "shell.execute_reply": "2021-05-22T11:45:59.241802Z"
        },
        "id": "worthy-calvin",
        "papermill": {
          "duration": 0.118114,
          "end_time": "2021-05-22T11:45:59.242765",
          "exception": false,
          "start_time": "2021-05-22T11:45:59.124651",
          "status": "completed"
        },
        "tags": []
      },
      "outputs": [],
      "source": [
        "# Instanciamiento del objeto\n",
        "logreg = LogisticRegression()\n",
        "\n",
        "# Ajustando el objeto\n",
        "logreg.fit(X_train, y_train)\n",
        "\n",
        "# Calculo de probabilidades\n",
        "y_pred_proba = logreg.predict_proba(X_test)\n",
        "\n",
        "# Encontrando los valores predichos\n",
        "y_pred = np.argmax(y_pred_proba,axis=1)\n",
        "\n",
        "# Impresión de la prueba de precisión\n",
        "print(\"El puntaje de precisión en la prueba de Regresión Logística es \", accuracy_score(y_test, y_pred))"
      ]
    },
    {
      "cell_type": "code",
      "execution_count": null,
      "id": "KUYI66zI2Mln",
      "metadata": {
        "id": "KUYI66zI2Mln"
      },
      "outputs": [],
      "source": [
        "## GRADIO DE AQUÍ PARA ABAJO"
      ]
    },
    {
      "cell_type": "code",
      "execution_count": null,
      "id": "DKRCIvGsnp5B",
      "metadata": {
        "id": "DKRCIvGsnp5B"
      },
      "outputs": [],
      "source": [
        "# Instalamos nuestra librería para la respectiva interfaz gráfica para el usuario\n",
        "!pip install -q gradio\n"
      ]
    },
    {
      "cell_type": "code",
      "execution_count": null,
      "id": "w46Xl3Fuudzx",
      "metadata": {
        "id": "w46Xl3Fuudzx"
      },
      "outputs": [],
      "source": [
        "# Instalamos la libreria de hugging face spaces para el hosting en la nube\n",
        "!pip install -q transformers"
      ]
    },
    {
      "cell_type": "code",
      "execution_count": null,
      "id": "Yc0WToNkmFRG",
      "metadata": {
        "id": "Yc0WToNkmFRG"
      },
      "outputs": [],
      "source": [
        "#Importamos gradio y el metodo necesario para el hosting\n",
        "import gradio as gr"
      ]
    },
    {
      "cell_type": "code",
      "execution_count": null,
      "id": "T-tTlUWMBPqU",
      "metadata": {
        "id": "T-tTlUWMBPqU"
      },
      "outputs": [],
      "source": [
        "# Variables globales\n",
        "# Creamos una lista donde se almacenarán los nombres de todos los campo de la UI\n",
        "nombres_campos = ['Edad', 'Sexo', 'Tipo de dolor toracico',\n",
        "                  'Presión arterial en reposo', 'Colesterol',\n",
        "                  'Azúcar en sangre en ayunas',\n",
        "                  'Resultados electrocardiográficos en reposo',\n",
        "                  'Ritmo cardíaco máximo alcanzado',\n",
        "                  'Angina inducida por ejercicio',\n",
        "                  'Depresión ST(Old Peak)', 'Pendiente del segmento ST', \n",
        "                  'Número de vasos principales',\n",
        "                  'Resultado de la prueba de esfuerzo con talio']\n",
        "texto_atributos = \"\"\"-Diccionario de datos-\\n\n",
        "`Edad` - Edad del paciente en cuestión.\\n\n",
        "`Sexo` - Sexo del paciente.\\n\n",
        "`Tipo de dolor torácico` - Si se presenta alguno de los siguientes: angina típica, angina atípica, dolor no anginal, 3 = asintomático.\\n\n",
        "`Presión arterial en reposo` - Presión arterial en reposo (medido en mm Hg).\\n\n",
        "`Colesterol` - Es obtenido a través del sensor de IMC (Medido en  mg/dl).\\n\n",
        "`Azúcar en sangre en ayunas` - Cuando este valor es mayor a 120 mg/dl.\\n\n",
        "`Resultados electrocardiográficos en reposo` - Normal, Normalidad de la onda ST-T, Hipertrofia ventricular izquierda.\\n\n",
        "`Angina inducida por ejercicio` - Si se padece este tipo de angina.\\n\n",
        "`Ritmo cardíaco máximo alcanzado`  - Ritmo cardíaco máximo alcanzado en la prueba con talio.\\n\n",
        "`Depresión ST(Old Peak)` - Pico anterior: es inducida por el ejercicio en relación al reposo.\\n\n",
        "`Pendiente del segmento ST` - Inclinación del segmento ST (ascendente, descendente u horizontal ).\\n\n",
        "`Número de vasos principales` - Número de vasos principales obtenido en Fluoroscopia.\\n\n",
        "`Resultado de la prueba de esfuerzo con talio` - Resultado de la prueba de esfuerzo con talio.\\n\"\"\""
      ]
    },
    {
      "cell_type": "code",
      "execution_count": null,
      "id": "1zeYl4_zPxug",
      "metadata": {
        "id": "1zeYl4_zPxug"
      },
      "outputs": [],
      "source": [
        "# creación de tema personalizado\n",
        "custom_theme = gr.themes.Soft(\n",
        "  primary_hue=\"emerald\",\n",
        "  secondary_hue=\"teal\",\n",
        "  neutral_hue=\"stone\",\n",
        "  text_size=\"lg\",\n",
        "  spacing_size=\"sm\",\n",
        "  radius_size=\"lg\"\n",
        "  ).set(\n",
        "    body_background_fill='*stat_background_fill',\n",
        "    body_background_fill_dark='*neutral_800',\n",
        "    body_text_color_subdued='*primary_100',\n",
        "    body_text_weight='500',\n",
        "    background_fill_primary_dark='*neutral_700',\n",
        "    background_fill_secondary_dark='*background_fill_primary',\n",
        "    border_color_accent='*primary_600',\n",
        "    border_color_accent_dark='*neutral_950',\n",
        "    color_accent='*neutral_800',\n",
        "    color_accent_soft_dark='*body_text_color_subdued',\n",
        "    link_text_color='*neutral_800',\n",
        "    link_text_color_dark='*border_color_primary',\n",
        "    prose_text_weight='500',\n",
        "    prose_header_text_weight='400',\n",
        "    block_background_fill='*neutral_700',\n",
        "    block_border_color_dark='*neutral_950',\n",
        "    block_border_width_dark='1 px',\n",
        "    block_info_text_size='*text_md',\n",
        "    block_label_background_fill_dark='*primary_800',\n",
        "    checkbox_background_color='*neutral_200',\n",
        "    checkbox_background_color_dark='*neutral_950',\n",
        "    checkbox_background_color_focus_dark='*neutral_800',\n",
        "    checkbox_border_color='*neutral_300',\n",
        "    checkbox_border_color_dark='*neutral_800'\n",
        ")"
      ]
    },
    {
      "cell_type": "code",
      "execution_count": null,
      "id": "lyOaLrDp8S4X",
      "metadata": {
        "id": "lyOaLrDp8S4X"
      },
      "outputs": [],
      "source": [
        "# Crear archivos temporales para guardar el grafico en una imagen\n",
        "import tempfile"
      ]
    },
    {
      "cell_type": "code",
      "execution_count": null,
      "id": "u43d-XOPUiE0",
      "metadata": {
        "id": "u43d-XOPUiE0"
      },
      "outputs": [],
      "source": [
        "# cambiar la media de todo el dataset real por todos los registros reales donde el target fue 1\n",
        "def crear_grafico(datos_paciente):\n",
        "  nombres_campos_formateados = ['Edad', 'Sexo', 'Tipo de dolor\\ntoracico',\n",
        "                  'Presión arterial\\nen reposo', 'Colesterol',\n",
        "                  'Azúcar en sangre\\nen ayunas',\n",
        "                  'Resultados\\nelectrocardiográficos\\nen reposo',\n",
        "                  'Ritmo cardíaco\\nmáximo alcanzado',\n",
        "                  'Angina inducida\\nor ejercicio',\n",
        "                  'Depresión ST\\n(Old Peak)', 'Pendiente del\\nsegmento ST', \n",
        "                  'Número de vasos\\nprincipales',\n",
        "                  'Resultado de la prueba\\nde esfuerzo con talio']\n",
        "\n",
        "  #features_mean_df= pd.DataFrame([df.mean(axis = 0)])\n",
        "  features_mean_df = df.loc[df['output'] == 1, ['age', 'sex', 'cp', 'trtbps', 'chol', 'fbs', 'restecg', 'thalachh', 'exng', 'oldpeak', 'slp', 'caa', 'thall', 'output']]\n",
        "  features_mean_df = features_mean_df.drop(['output'], axis = 1)\n",
        "  \n",
        "  # Valores para X y Y para la media\n",
        "  y_plot_means = features_mean_df.iloc[0].values        # Medias\n",
        "\n",
        "  # Valores para X y Y para los datos ingresados del paciente\n",
        "  y_plot_paciente = pd.DataFrame(datos_paciente).iloc[0].values\n",
        "\n",
        "  # Crear el gráfico de barras para la media del dataset\n",
        "  fig, ax = plt.subplots(figsize=(16,9))    \n",
        "  width = 0.35 # the width of the bars \n",
        "  ind = np.arange(len(y_plot_means))  # the x locations for the groups\n",
        "  # Gráfico de barras para la media\n",
        "  ax.barh(ind, y_plot_means, width, color=\"darkseagreen\", label='Media')\n",
        "\n",
        "  # Gráfico de barras para los datos del paciente\n",
        "  ax.barh(ind + width, y_plot_paciente.astype(float), width, color=\"skyblue\")\n",
        "\n",
        "  ax.set_yticks(ind+width/2)\n",
        "  ax.set_yticklabels(labels = nombres_campos_formateados, fontweight='bold')\n",
        "  max_paciente = y_plot_paciente.astype(np.float64)\n",
        "  x_labels = np.max(max_paciente)\n",
        "  ax.set_xticklabels(labels = np.arange(0, x_labels+51, 50), fontweight='bold')\n",
        "\n",
        "  plt.title('Comparación de los atributos del pacientes con la media de infartos reales.', fontweight='bold')\n",
        "  plt.xlabel('Valores')\n",
        "  plt.ylabel('Atributo')      \n",
        "\n",
        "  plt.legend(labels=['Media de Infartos', 'Paciente'])\n",
        "  fig.set_facecolor(\"mediumaquamarine\")\n",
        "  ax.set_facecolor(\"mintcream\")\n",
        "\n",
        "  # Agregar etiquetas con los valores del paciente en el gráfico\n",
        "  for i, v in enumerate(y_plot_means):\n",
        "    ax.annotate(\"{:.2f}\".format(v), xy=(v + 4, i + .25), va='center', color='forestgreen', fontweight='bold')\n",
        "      \n",
        "  for i, v in enumerate(y_plot_paciente.astype(float)):\n",
        "    ax.annotate(\"{:.2f}\".format(v), xy=(v + 4, i + width + .33), va='center', color='steelblue', fontweight='bold')\n",
        "\n",
        "  # Guardar la figura en un archivo temporal\n",
        "  with tempfile.NamedTemporaryFile(suffix=\".png\", delete=False) as temp_file:\n",
        "    fig.savefig(temp_file, format='png')\n",
        "    temp_file.close()\n",
        "    temp_filename = temp_file.name\n",
        "\n",
        "  return temp_filename"
      ]
    },
    {
      "cell_type": "code",
      "execution_count": null,
      "id": "YjCnmmldzF2f",
      "metadata": {
        "id": "YjCnmmldzF2f"
      },
      "outputs": [],
      "source": [
        "# Creamos la función con la que generaremos predicciones mediante el llenado de los\n",
        "# valores de las variables y validaremos los valores que contienen los campos\n",
        "def diagnosticar(age,sex,cp,trtbps,chol,fbs,restecg,thalachh,exng,oldpeak,slp,caa,thall):\n",
        "  # ---código para validación de campos---\n",
        "\n",
        "  # creamos una lista donde se almacenan los valores de los campos\n",
        "  inputs = [age,sex,cp,trtbps,chol,fbs,restecg,thalachh,exng,oldpeak,slp,caa,thall]\n",
        "\n",
        "  if all(var is not None and (var!= \"\" )and (var!= '') for var in inputs):\n",
        "    # verdadero si todas las variables tienen valores distintos a nulo\n",
        "    not_nulls = True;\n",
        "  else:\n",
        "    # falso si alguna de las variables tiene un valor nulo\n",
        "    not_nulls = False\n",
        "    # creamos una lista la cual contendra una tupla, donde se tendrá el nombre del campo y su valor nulo \n",
        "    campos_con_nulos = [nombres_campos[i] for i in range(len(inputs)) if (inputs[i] == \"\") or (inputs[i] == '') or (inputs[i] is None)]\n",
        "    # Dependiendo de la cantidad de campos vacíos mostraremos su error correspondiente\n",
        "    if len(campos_con_nulos) == 1:\n",
        "        raise gr.Error(message = f\"Falta el campo: {campos_con_nulos} por llenar!\")\n",
        "    else:\n",
        "      # creamos una cadena a partir de la lista campos_con_nulos\n",
        "      # juntaremos todos los registros en una sola cadena y separaremos el nombre\n",
        "      # de cada campo con una coma, seguido de un espacio y antes de que se\n",
        "      # muestre el nombre del campo se escribe una viñeta, esto para facilitarle\n",
        "      # al usuario la identificación de los campos vacíos\n",
        "      campos_faltantes = ',  •'.join([campo for campo in campos_con_nulos])\n",
        "      raise gr.Error(message = f\"¡Faltan por llenar {len(campos_con_nulos)} campos!: •{campos_faltantes}\")\n",
        "    \n",
        "    #---código para generar las predicciones---\n",
        "  if(not_nulls):\n",
        "    paciente_info = {\n",
        "      'age'       :   [age],    \n",
        "      'sex'       :   [sex],    \n",
        "      'cp'        :   [cp],    \n",
        "      'trtbps'    :   [trtbps],  \n",
        "      'chol'      :   [chol],  \n",
        "      'fbs'       :   [fbs],    \n",
        "      'restecg'   :   [restecg],    \n",
        "      'thalachh'  :   [thalachh],  \n",
        "      'exng'      :   [exng],  \n",
        "      'oldpeak'   :   [oldpeak],  \n",
        "      'slp'       :   [slp],    \n",
        "      'caa'       :   [caa],    \n",
        "      'thall'     :   [thall]    \n",
        "    }\n",
        "    # creacion de DF para almacenar la información del paciente o usuario que\n",
        "    # quiera generar una predicción\n",
        "    paciente = pd.DataFrame(paciente_info)\n",
        "\n",
        "    #crear graficas para comparar el paciente con la media o el resto del dataset\n",
        "    graph = crear_grafico(paciente)\n",
        "\n",
        "    # Codificando las columnas categoricas\n",
        "    paciente_dummy = pd.get_dummies(paciente, columns = cat_cols, drop_first = True)\n",
        "\n",
        "    # Definiendo los atributos independientes y el atributo dependiente\n",
        "    all_cols = set(X_train.columns)\n",
        "\n",
        "    missing_cols = all_cols - set(paciente_dummy.columns)\n",
        "    for col in missing_cols:\n",
        "      paciente_dummy[col] = 0\n",
        "\n",
        "    paciente_dummy = paciente_dummy[X_train.columns]\n",
        "\n",
        "    paciente[con_cols] = scaler.transform(paciente[con_cols])\n",
        "\n",
        "    # Haciendo predicciones en nuevos datos\n",
        "    prediccion = logreg.predict(paciente_dummy)\n",
        "\n",
        "\n",
        "    if prediccion == 0:\n",
        "      return (\"No se presenta riesgo de un infarto\", graph)\n",
        "    else:\n",
        "      return (\"Existe riesgo de infarto\\nPor favor visite a un medico\", graph)\n",
        "  else:\n",
        "    raise gr.Error(\"¡ERROR CRÍTICO.- Consulte a los desarrolladores.\")\n",
        "    "
      ]
    },
    {
      "cell_type": "code",
      "execution_count": null,
      "id": "rECRJ96VLrer",
      "metadata": {
        "id": "rECRJ96VLrer"
      },
      "outputs": [],
      "source": [
        "# Creación de block\n",
        "with gr.Blocks(title=\"Predicción de riesgo de un IAM\", theme = custom_theme) as modelo:\n",
        "  gr.Markdown(\n",
        "        \"\"\"\n",
        "    # Predicción de riesgo de Infarto Agudo al Miocardio\n",
        "    Modelo de Regresión Lineal para identificar la existencia de riesgo de un IAM.\n",
        "    Al final se presentan ejemplos, para ejecutarlos seleccionar uno y dar click en el botón \"Generar\".\n",
        "    \"\"\"\n",
        "    )\n",
        "  with gr.Row():\n",
        "    with gr.Column():\n",
        "      age   = gr.Textbox(label=\"Edad\",placeholder=\"Ingrese su edad en años.\")\n",
        "  with gr.Row():\n",
        "      sex   = gr.Dropdown(label=\"Sexo\",\n",
        "            choices=[\"0\",\"1\"],\n",
        "            info=\"Mujer (0)\\nHombre (1)\",\n",
        "            placeholder=\"Seleccione la opción correspondiente.\")\n",
        "  with gr.Row():\n",
        "      cp    = gr.Dropdown(label=\"Tipo de dolor toracico\",\n",
        "            info=\"0 = Angina típica\\n1 = Angina atípica\\n2 = Dolor no anginal\\n3 = Asintomático\",\n",
        "            choices=[\"0\",\"1\",\"2\",\"3\"],\n",
        "            placeholder=\"Seleccione la opción correspondiente.\")\n",
        "  with gr.Row():\n",
        "      trtbps    = gr.Textbox(label=\"Presión arterial en reposo\",\n",
        "           info=\"(en mm Hg)\",\n",
        "           placeholder=\"Ingrese su presión arterial.\")\n",
        "  with gr.Row():\n",
        "      chol    = gr.Textbox(label=\"Colesterol\",\n",
        "           info=\"(en mg/dl obtenido a través del sensor de IMC)\",\n",
        "           placeholder=\"Ingrese su nivel de colesterol.\")\n",
        "  with gr.Row():\n",
        "      fbs   = gr.Dropdown(label=\"Azúcar en sangre en ayunas\",\n",
        "            info = \"¿Es mayor a 120 mg/dl?\\nSi (1) No (0)\",\n",
        "            choices =[\"0\",\"1\"],\n",
        "            placeholder=\"Seleccione la opción correspondiente.\")\n",
        "  with gr.Row():\n",
        "      restecg   = gr.Dropdown(label=\"Resultados electrocardiográficos en reposo\",\n",
        "            choices=[\"0\",\"1\",\"2\"],\n",
        "            info=\"0 = Normal\\n1 = Normalidad de la onda ST-T\\n2 = Hipertrofia ventricular izquierda\",\n",
        "            placeholder=\"Seleccione la opción correspondiente.\")\n",
        "  with gr.Row():\n",
        "      thalachh    = gr.Textbox(label=\"Ritmo cardíaco máximo alcanzado\",\n",
        "           placeholder=\"Ingrese su ritmo cardíaco.\")\n",
        "  with gr.Row():\n",
        "      exng    = gr.Dropdown(label=\"Angina inducida por ejercicio\",\n",
        "            choices=[\"0\",\"1\"],\n",
        "            info= \"Si (1)\\nNo (0)\",\n",
        "            placeholder=\"Seleccione la opción correspondiente.\")\n",
        "  with gr.Row():\n",
        "      oldpeak   = gr.Textbox(label =\"Depresión ST(Old Peak)\",\n",
        "           info=\"Inducida por el ejercicio en relación al reposo.\",\n",
        "           placeholder=\"Ingrese el valor correspondiente.\")\n",
        "  with gr.Row():\n",
        "      slp   = gr.Textbox(label=\"Pendiente del segmento ST\",\n",
        "           info=\"-- Valor 1: ascendente\\n-- Valor 2: horizontal\\n-- Valor 3: descendente\",\n",
        "           placeholder=\"Ingrese el valor en el pico del ejercicio.\")\n",
        "  with gr.Row():\n",
        "      caa   = gr.Dropdown(label=\"Número de vasos principales\",\n",
        "            info=\"Valor obtenido en Fluoroscopia \",\n",
        "            choices=[\"0\",\"1\",\"2\",\"3\"],\n",
        "            placeholder=\"Seleccione la opción correspondiente.\")\n",
        "  with gr.Row():\n",
        "      thall = gr.Dropdown(label=\"Resultado de la prueba de esfuerzo con talio\",\n",
        "            info=\"1 = normal.\\n2 = defecto fijo.\\n3 = defecto reversible.\",\n",
        "            choices=[\"1\",\"2\",\"3\"],\n",
        "            placeholder=\"Seleccione la opción correspondiente.\")\n",
        "  with gr.Row():\n",
        "      prediction_btn = gr.Button(value = \"Generar\")\n",
        "  with gr.Row():\n",
        "    prediction = gr.Textbox(label=(\"Resultado\"))\n",
        "  with gr.Row():\n",
        "    graphGR = gr.Image(label=(\"Gráfica\"))\n",
        "\n",
        "  prediction_btn.click(diagnosticar, \n",
        "                       inputs = [age,sex,cp,trtbps,chol,fbs,restecg,thalachh,exng,oldpeak,slp,caa,thall], \n",
        "                       outputs = [prediction, graphGR],\n",
        "                       api_name = \"prediccion-riesgo-iam\")\n",
        "  data_dict = gr.Textbox(label = \"Diccionario de datos\", value = texto_atributos, interactive = False)\n",
        "\n",
        "  examples = gr.Examples(label=\"Ejemplos\",  examples=[\n",
        "      [64, 1, 0, 120, 246, 0, 0, 96, 1, 2.2, 0, 1, 2], # riesgo inexistente\n",
        "      [43,0,0,132,341,1,0,136,1,3,1,0,3,0], # riesgo inexistente\n",
        "      [50,0,2,120,219,0,1,158,0,1.6,1,0,2,1], # hay riesgo\n",
        "      [37,1,2,130,250,0,1,187,0,3.5,0,0,2]# hay riesgo\n",
        "      ], inputs=[age,sex,cp,trtbps,chol,fbs,restecg,thalachh,exng,oldpeak,slp,caa,thall])"
      ]
    },
    {
      "cell_type": "code",
      "execution_count": null,
      "id": "-iOtEgy5DFki",
      "metadata": {
        "id": "-iOtEgy5DFki"
      },
      "outputs": [],
      "source": [
        "modelo.close()\n",
        "modelo.launch(inline=False)"
      ]
    }
  ],
  "metadata": {
    "colab": {
      "collapsed_sections": [
        "limiting-elder",
        "automatic-arctic",
        "western-electronics",
        "dutch-threshold",
        "contained-guyana",
        "oriental-translation",
        "0xNCugM0_s71",
        "z-kq99azzd_8"
      ],
      "provenance": []
    },
    "kernelspec": {
      "display_name": "Python 3",
      "language": "python",
      "name": "python3"
    },
    "language_info": {
      "codemirror_mode": {
        "name": "ipython",
        "version": 3
      },
      "file_extension": ".py",
      "mimetype": "text/x-python",
      "name": "python",
      "nbconvert_exporter": "python",
      "pygments_lexer": "ipython3",
      "version": "3.10.6"
    },
    "papermill": {
      "default_parameters": {},
      "duration": 75.74048,
      "end_time": "2021-05-22T11:46:02.885127",
      "environment_variables": {},
      "exception": null,
      "input_path": "__notebook__.ipynb",
      "output_path": "__notebook__.ipynb",
      "parameters": {},
      "start_time": "2021-05-22T11:44:47.144647",
      "version": "2.3.2"
    }
  },
  "nbformat": 4,
  "nbformat_minor": 5
}
